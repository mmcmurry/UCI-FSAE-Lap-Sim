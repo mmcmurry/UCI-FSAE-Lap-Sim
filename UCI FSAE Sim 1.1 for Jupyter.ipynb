{
 "cells": [
  {
   "cell_type": "markdown",
   "metadata": {},
   "source": [
    "# Version 1.1 (dev) - Updated 9/6/2017 "
   ]
  },
  {
   "cell_type": "markdown",
   "metadata": {},
   "source": [
    "# To Do"
   ]
  },
  {
   "cell_type": "markdown",
   "metadata": {},
   "source": [
    "- Make braking more realistic (use forces instead of constant acceleration",
    "- Add power curve, gears\n",
    "- Change Euler integration to RK4"
   ]
  },
  {
   "cell_type": "markdown",
   "metadata": {},
   "source": [
    "# Car class"
   ]
  },
  {
   "cell_type": "code",
   "execution_count": 114,
   "metadata": {
    "collapsed": true
   },
   "outputs": [],
   "source": [
    "from math import sqrt, pi\n",
    "\n",
    "def quadraticFormula(a,b,c):\n",
    "    # Given coefficients of a quadratic, finds x-coordinates of the zeroes and returns them in a list.\n",
    "    result = []\n",
    "    result.append((-b+sqrt(b**2-4*a*c))/(2*a))\n",
    "    result.append((-b-sqrt(b**2-4*a*c))/(2*a))\n",
    "    return result\n",
    "\n",
    "def findVertex(a,b,c):\n",
    "    x = -b/(2*a)\n",
    "    y = a*x**2 + b*x + c\n",
    "    return [x, y]\n",
    "\n",
    "def readTrackFile(path):\n",
    "        # Turns a .txt file into a track. Works when you copy/paste radius/angle/distance data from Excel into Notepad\n",
    "        file = open(path)\n",
    "        track = []\n",
    "        \n",
    "        for line in file:\n",
    "            turn = line.split('\\t')\n",
    "            for i in range(3):\n",
    "                turn[i] = float(turn[i])\n",
    "            track.append(turn)\n",
    "            \n",
    "        file.close()\n",
    "        return track\n",
    "\n",
    "\n",
    "class Car:\n",
    "    def __init__(self, name, m, P, mu, width, a_brake, df, drag):\n",
    "        self.name = name # Just the name of the instance\n",
    "        self.mass = m # Mass of the car with fuel and driver, in kilograms\n",
    "        self.power = P # Average power of the engine, calculated using acceleration event times, in Watts\n",
    "        self.mu = mu # Coefficient of static friction\n",
    "        self.a_brake = a_brake # Longitudinal acceleration under peak braking\n",
    "        self.df = df # A length 3 array with quadratic coefficients\n",
    "        self.df += findVertex(df[0],df[1],df[2])[::-1]\n",
    "        self.drag = drag # Same as self.df ... [a, b, c]\n",
    "        self.drag += findVertex(drag[0],drag[1],drag[2])[::-1]\n",
    "        self.width = width # Width of the car in meters\n",
    "        self.dt = 0.001        \n",
    "    \n",
    "    def getDownforce(self, velocity):\n",
    "        # Returns downforce amount (positive) in Newtons given a velocity using a linear/quadratic model of downforce\n",
    "        # If v is higher than vertex of downforce parabola, use quadratic model of downforce. Otherwise use linear\n",
    "        if (velocity >= self.df[4]):\n",
    "            return self.df[0]*velocity**2 + self.df[1]*velocity + self.df[2]\n",
    "        # If v is lower than the apex, use the linear model\n",
    "        else:\n",
    "            return velocity*self.df[3]/self.df[4]\n",
    "\n",
    "    def getDrag(self, velocity):\n",
    "        # Returns drag force (positive) in Newtons given a velocity using a linear/quadratic model of drag\n",
    "        # Basically identical to Car.getDownforce()\n",
    "        if (velocity >= self.drag[4]):\n",
    "            return self.drag[0]*velocity**2 - self.drag[1]*velocity + self.drag[2]\n",
    "        else:\n",
    "            return velocity*self.drag[3]/self.drag[4]\n",
    "    \n",
    "    def findCorneringSpeed(self, radius):\n",
    "        # Returns the maximum speed in meters per second that the car could go through a corner of given radius\n",
    "        # Finds speed where centripetal force = cornering force. This formula can be reduced into a quadratic and solved\n",
    "\n",
    "        radius = radius + 0.5*self.width\n",
    "        \n",
    "        a = self.mass/radius - self.mu*self.df[0]\n",
    "        b = self.mu*self.df[1]\n",
    "        c = -1*self.mu*(self.mass*9.81 + self.df[2])\n",
    "        \n",
    "        v = max(quadraticFormula(a,b,c))\n",
    "\n",
    "        if v > self.df[4]:\n",
    "            return v\n",
    "        else:\n",
    "            a = 1\n",
    "            b = -radius/self.mass * self.mu * self.df[3]/self.df[4]\n",
    "            c = -radius * self.mass * self.mu * 9.81\n",
    "            return max(quadraticFormula(a,b,c))\n",
    "\n",
    "    def findCorneringTime(self, radius, theta):\n",
    "        # Returns time to go through a corner in seconds given the radius of the turn in meters and the angle of the turn\n",
    "        # Uses Car.findCorneringSpeed() to find velocity through turn, then computes time through turn with t = d/v\n",
    "        v = self.findCorneringSpeed(radius)\n",
    "        radius = radius + 0.5*self.width\n",
    "        d = 2*pi*radius * theta/360\n",
    "        return d/v\n",
    "    \n",
    "    def findStraightTime(self, v_i, v_f, length):\n",
    "        # Figures out how long it takes to go a specified distance starting and ending at specified speeds using numerical integration\n",
    "        t = 0\n",
    "        d = 0\n",
    "        d_prev = 0\n",
    "        v = v_i\n",
    "        ke = 0.5*self.mass*v**2\n",
    "        \n",
    "        # While d is less than the length of the straight minus the distance required to slow down, accelerate\n",
    "        while(d < length - self.findBrakingDistance(v, v_f)):\n",
    "            ke += self.power*self.dt - self.getDrag(v)*(d-d_prev)\n",
    "            v = sqrt(2*ke/self.mass)\n",
    "            d_prev = d\n",
    "            d += v*self.dt\n",
    "            t += self.dt\n",
    "                \n",
    "        # The previous loop exited, so now it is time to slow down by subtracting the braking acceleration from velocity\n",
    "        while(d<length):\n",
    "            v -= self.a_brake*self.dt\n",
    "            d += v*self.dt\n",
    "            t += self.dt\n",
    "        \n",
    "        return t\n",
    "\n",
    "    def findBrakingDistance(self, v, v_f):\n",
    "        # Finds distance required to slow from v to v_f using a formula derived using some basic calculus. Contact Matt McMurry for more info\n",
    "        # Enter -1 for v_f to not include braking (for use in Car.findStraightTime)\n",
    "        if v_f == -1:\n",
    "            return 0\n",
    "        else:\n",
    "            dv = v-v_f\n",
    "            return (dv/self.a_brake) * ((dv/2) + v_f)\n",
    "    \n",
    "    def findLapTime(self, track, ax_bool=None):\n",
    "        # Calculates a lap time given a track. ax_bool = true will make it so that the car accelerates to the finish, rather than slow down as if there was a turn\n",
    "        # Tracks are 2d lists, where each inner list is a turn made up of [radius, degrees, distance to next turn]. The direction of the turn doesn't matter\n",
    "        t = 0\n",
    "        if not ax_bool:\n",
    "            ax_bool = False\n",
    "        # Finds corner velocities for vor every turn (for calculating straight times) and finds cornering times and adds\n",
    "        # them to the total lap time\n",
    "        corner_speeds = []\n",
    "        for turn in track:\n",
    "            corner_speeds.append(self.findCorneringSpeed(turn[0]))\n",
    "            t += self.findCorneringTime(turn[0], turn[1])\n",
    "            \n",
    "        # Iterate through turns to find time spent in the straights\n",
    "        for turn in range(len(track)):\n",
    "            if turn == len(track)-1:\n",
    "                next_turn = 0\n",
    "            else:\n",
    "                next_turn = turn + 1\n",
    "            \n",
    "            # If it's an autocross track, don't slow down at the end\n",
    "            if ax_bool and next_turn == 0:\n",
    "                t += self.findStraightTime(corner_speeds[turn], -1, track[turn][2])\n",
    "            else:\n",
    "                t += self.findStraightTime(corner_speeds[turn], corner_speeds[next_turn], track[turn][2])\n",
    "            \n",
    "        return t\n",
    "                \n",
    "    def findDynamicTimes(self, p_bool, autox_track, endurance_track):\n",
    "        # Calculates times in acceleration, skidpad, autocross, and endurance using car parameters and points data from Lincoln 2017\n",
    "        times = []\n",
    "        times.append(round(self.findStraightTime(0, -1, 75), 3))\n",
    "        times.append(round(self.findCorneringTime(8.12, 360), 3))\n",
    "        times.append(round(self.findLapTime(autox_track, True), 3))\n",
    "        times.append(round(self.findLapTime(endurance_track) * 16, 3)) # Endurance is 16 laps, so just multiply the time of one lap times 16\n",
    "        if p_bool:\n",
    "            print(self.name + ' dynamic event times: ')\n",
    "            print('Accel: ' + str(times[0]) + '\\tSkidpad: ' + str(times[1]) + '\\tAutoX: ' + str(times[2]) + '\\tEnduro: ' + str(times[3]) + '\\n')\n",
    "        return times"
   ]
  },
  {
   "cell_type": "markdown",
   "metadata": {},
   "source": [
    "# Variable, track setup"
   ]
  },
  {
   "cell_type": "code",
   "execution_count": 115,
   "metadata": {
    "collapsed": true
   },
   "outputs": [],
   "source": [
    "power = 23610 # Watts\n",
    "m_car = 234.0 # kg\n",
    "m_driver = 78.0 # kg\n",
    "m_aeroPackage = 12.0 # kg\n",
    "width_car = 1.2192 # m\n",
    "mu_s = 1.31985\n",
    "a_brake17 = 1.2 * 9.81 # m/s^2\n",
    "a_brake18 = 1.4 * 9.81 # m/s^2\n",
    "df18 = [0.2852, -3.3168, 25.136]\n",
    "drag18 = [0.8715, -11.845, 42.783]\n",
    "df17 = [-0.2951, 5.9005, -12.486, 0, 0]\n",
    "drag17 = [0.402, -0.0397, -7.5821]\n",
    "\n",
    "skidpad_track = [[8.12, 360, 0]]\n",
    "autox_track = readTrackFile(\"C:\\\\Users\\\\MMcMu\\\\OneDrive\\\\Documents\\\\_School\\\\_FSAE\\\\Lap sim\\\\2017 autocross map.txt\")\n",
    "endurance_track = readTrackFile(\"C:\\\\Users\\\\MMcMu\\\\OneDrive\\\\Documents\\\\_School\\\\_FSAE\\\\Lap sim\\\\2017 endurance map.txt\")\n",
    "# Mantis17 is the old car\n",
    "# Mantis18 is the old car + aero. \n",
    "# Mantis18a is Mantis18 - 16 kg (so we are average weight w/o aero), + 2147 W from new exhaust\n",
    "Mantis17 = Car(\"Mantis 17\", m_car+m_driver, power, mu_s, width_car, a_brake17, df17, drag17)\n",
    "Mantis18 = Car(\"Mantis 18\", m_car+m_driver+m_aeroPackage, power, mu_s, width_car, a_brake18, df18, drag18)\n",
    "Mantis18a = Car(\"Mantis 18a\", m_car+m_driver+m_aeroPackage-16, power+2147, mu_s, width_car, a_brake18, df18, drag18)"
   ]
  },
  {
   "cell_type": "markdown",
   "metadata": {
    "collapsed": true
   },
   "source": [
    "# Testing"
   ]
  },
  {
   "cell_type": "code",
   "execution_count": 116,
   "metadata": {},
   "outputs": [
    {
     "name": "stdout",
     "output_type": "stream",
     "text": [
      "Mantis 17 dynamic event times: \n",
      "Accel: 4.452\tSkidpad: 5.251\tAutoX: 57.03\tEnduro: 1312.084\n",
      "\n",
      "Mantis 18 dynamic event times: \n",
      "Accel: 4.789\tSkidpad: 5.084\tAutoX: 54.439\tEnduro: 1280.683\n",
      "\n",
      "Mantis 18a dynamic event times: \n",
      "Accel: 4.583\tSkidpad: 5.081\tAutoX: 54.01\tEnduro: 1270.511\n",
      "\n",
      "-7.57% difference from 2017 to 2018 in acceleration\n",
      "3.18% difference from 2017 to 2018 in skidpad\n",
      "4.54% difference from 2017 to 2018 in autocross\n",
      "2.39% difference from 2017 to 2018 in endurance\n",
      "\n",
      "-2.94% difference from 2017 to 2018a in acceleration\n",
      "3.24% difference from 2017 to 2018a in skidpad\n",
      "5.3% difference from 2017 to 2018a in autocross\n",
      "3.17% difference from 2017 to 2018a in endurance\n"
     ]
    }
   ],
   "source": [
    "m17 = Mantis17.findDynamicTimes(True, autox_track, endurance_track)\n",
    "m18 = Mantis18.findDynamicTimes(True, autox_track, endurance_track)\n",
    "m18a = Mantis18a.findDynamicTimes(True, autox_track, endurance_track)\n",
    "events = ['acceleration', 'skidpad', 'autocross', 'endurance']\n",
    "\n",
    "for event in range(len(m17)):\n",
    "    diff = m17[event]-m18[event]\n",
    "    percent = diff/m17[event]*100\n",
    "    print(str(round(percent,2)) + '% difference from 2017 to 2018 in ' + events[event])\n",
    "print()\n",
    "for event in range(len(m17)):\n",
    "    diff = m17[event]-m18a[event]\n",
    "    percent = diff/m17[event]*100\n",
    "    print(str(round(percent,2)) + '% difference from 2017 to 2018a in ' + events[event])"
   ]
  },
  {
   "cell_type": "markdown",
   "metadata": {},
   "source": [
    "# Model accuracy"
   ]
  },
  {
   "cell_type": "code",
   "execution_count": 117,
   "metadata": {},
   "outputs": [
    {
     "name": "stdout",
     "output_type": "stream",
     "text": [
      "0.0% difference from irl to model in acceleration\n",
      "\n",
      "0.02% difference from irl to model in skidpad\n",
      "\n",
      "0.42% difference from irl to model in autocross\n",
      "\n",
      "11.65% difference from irl to model in endurance\n",
      "\n",
      "\n",
      "Model is 3.40% inaccurate on average across the four events\n"
     ]
    }
   ],
   "source": [
    "model_accuracy = 0\n",
    "irl_times = [4.452, 5.252, 57.268, 1485.083]\n",
    "\n",
    "for event in range(len(m17)):\n",
    "    print(str(round(abs((m17[event]-irl_times[event])/irl_times[event]*100),2)) + '% difference from irl to model in ' + events[event] + '\\n')\n",
    "    \n",
    "    model_accuracy += abs((m17[event]-irl_times[event])/m17[event]*100)\n",
    "\n",
    "model_accuracy /= 4\n",
    "print('\\nModel is ' + str(model_accuracy)[:4] + '% inaccurate on average across the four events')   "
   ]
  },
  {
   "cell_type": "code",
   "execution_count": null,
   "metadata": {
    "collapsed": true
   },
   "outputs": [],
   "source": []
  }
 ],
 "metadata": {
  "kernelspec": {
   "display_name": "Python 3",
   "language": "python",
   "name": "python3"
  },
  "language_info": {
   "codemirror_mode": {
    "name": "ipython",
    "version": 3
   },
   "file_extension": ".py",
   "mimetype": "text/x-python",
   "name": "python",
   "nbconvert_exporter": "python",
   "pygments_lexer": "ipython3",
   "version": "3.6.1"
  }
 },
 "nbformat": 4,
 "nbformat_minor": 2
}
